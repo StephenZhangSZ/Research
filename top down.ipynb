{
 "cells": [
  {
   "cell_type": "code",
   "execution_count": 115,
   "id": "4f2bbfff",
   "metadata": {},
   "outputs": [
    {
     "data": {
      "text/plain": [
       "top (generic function with 1 method)"
      ]
     },
     "execution_count": 115,
     "metadata": {},
     "output_type": "execute_result"
    }
   ],
   "source": [
    "using Random\n",
    "using Distributions\n",
    "\n",
    "n_player = 100\n",
    "fitness = zeros(Int64, n_player)\n",
    "n_playtimes = zeros(Int64, n_player)\n",
    "SS = [1,0,0,1]\n",
    "SJ = [1,0,1,1]\n",
    "#the payoff matrix and how to get payoff based on the action\n",
    "rowPlayer = [[0,1],[-2,3]]\n",
    "colPlayer = [[0,-2],[1,3]]\n",
    "function payoff(a,b)\n",
    "    [rowPlayer[a][b],colPlayer[a][b]]\n",
    "end\n",
    "#this will generated the reputation for players, the user can enter the number of players\n",
    "function gen_reputation(x)\n",
    "    reputation = Vector{Int}(undef, x)\n",
    "    for i in range(1,length(reputation))\n",
    "            reputation[i] = rand(1:2)\n",
    "    end\n",
    "    reputation\n",
    "end\n",
    "\n",
    "#generate an arrya that contains each player's strategies\n",
    "function gen_strategies(x)\n",
    "    strategies = Vector{Int}(undef, x)\n",
    "    for i in range(1,length(strategies))\n",
    "            strategies[i] = rand(1:2)\n",
    "    end\n",
    "    strategies\n",
    "end\n",
    "\n",
    "function update_rep(social_norm,pAa,pBa,rep,pA,pB)\n",
    "    if pAa == 2 && rep[pB] == 2\n",
    "        if social_norm[1] == 1\n",
    "            rep[pA] = 2\n",
    "        else\n",
    "            rep[pA] = 1\n",
    "        end\n",
    "    elseif pAa == 1 && rep[pB] == 2\n",
    "        if social_norm[2] == 1\n",
    "            rep[pA] = 2\n",
    "        else\n",
    "            rep[pA] = 1\n",
    "        end\n",
    "    elseif pAa == 2 && rep[pB] == 1\n",
    "        if social_norm[3] == 1\n",
    "            rep[pA] = 2\n",
    "        else\n",
    "            rep[pA] = 1\n",
    "        end\n",
    "    else\n",
    "        if social_norm[4] == 1\n",
    "            rep[pA] = 2\n",
    "        else\n",
    "            rep[pA] = 1\n",
    "        end\n",
    "    end\n",
    "    rep\n",
    "end\n",
    "\n",
    "\n",
    "function top(n,m,social_n,w)\n",
    "    reputation = gen_reputation(n_player)\n",
    "    actions = gen_strategies(n_player)\n",
    "    for i in 1:n\n",
    "        for j in 1:m\n",
    "            p = randperm(n_player)\n",
    "            p_A = p[1]\n",
    "            p_B = p[2]\n",
    "            n_playtimes[p_A] += 1\n",
    "            n_playtimes[p_B] += 1\n",
    "            fitness[p_A] += payoff(actions[p_A],actions[p_B])[1]\n",
    "            fitness[p_B] += payoff(actions[p_A],actions[p_B])[2]\n",
    "            update_rep(social_n,actions[p_A],actions[p_B],reputation,p_A,p_B)\n",
    "        end\n",
    "        p = randperm(n_player)\n",
    "        focal = p[1]\n",
    "        role = p[2]\n",
    "        pro = 1/2 + w*((fitness[focal]-fitness[role]) / (maximum(Iterators.flatten(rowPlayer)) - minimum(Iterators.flatten(rowPlayer))))\n",
    "        if rand() > pro\n",
    "            actions[focal] = actions[role]\n",
    "        end\n",
    "    end\n",
    "    actions\n",
    "end"
   ]
  },
  {
   "cell_type": "code",
   "execution_count": 125,
   "id": "dfc7c356",
   "metadata": {},
   "outputs": [
    {
     "data": {
      "text/plain": [
       "(62, 0.62)"
      ]
     },
     "execution_count": 125,
     "metadata": {},
     "output_type": "execute_result"
    }
   ],
   "source": [
    "a = top(100,1000,SS,0.1)\n",
    "count = 0\n",
    "for i in a\n",
    "    if i == 2\n",
    "        count += 1\n",
    "    end\n",
    "end\n",
    "count,count/length(a)"
   ]
  },
  {
   "cell_type": "code",
   "execution_count": 164,
   "id": "ba7c9a07",
   "metadata": {},
   "outputs": [
    {
     "data": {
      "text/plain": [
       "(51, 0.51)"
      ]
     },
     "execution_count": 164,
     "metadata": {},
     "output_type": "execute_result"
    }
   ],
   "source": [
    "a = top(100,1000,SJ,0.1)\n",
    "count = 0\n",
    "for i in a\n",
    "    if i == 2\n",
    "        count += 1\n",
    "    end\n",
    "end\n",
    "count,count/length(a)"
   ]
  },
  {
   "cell_type": "code",
   "execution_count": null,
   "id": "3f8e4a07",
   "metadata": {},
   "outputs": [],
   "source": []
  },
  {
   "cell_type": "code",
   "execution_count": null,
   "id": "3797ca64",
   "metadata": {},
   "outputs": [],
   "source": []
  }
 ],
 "metadata": {
  "kernelspec": {
   "display_name": "Julia 1.9.3",
   "language": "julia",
   "name": "julia-1.9"
  },
  "language_info": {
   "file_extension": ".jl",
   "mimetype": "application/julia",
   "name": "julia",
   "version": "1.9.3"
  }
 },
 "nbformat": 4,
 "nbformat_minor": 5
}
